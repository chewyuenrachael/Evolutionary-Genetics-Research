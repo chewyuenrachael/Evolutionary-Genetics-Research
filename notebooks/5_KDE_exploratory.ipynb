{
 "cells": [
  {
   "cell_type": "markdown",
   "metadata": {},
   "source": [
    "# Extra Exploratory Data Anlysis (not included in final paper)"
   ]
  },
  {
   "cell_type": "code",
   "execution_count": 1,
   "metadata": {},
   "outputs": [],
   "source": [
    "# 4b_KDE_exploratory.ipynb\n",
    "\n",
    "import pandas as pd\n",
    "import matplotlib.pyplot as plt\n",
    "import seaborn as sns\n",
    "from pathlib import Path\n",
    "\n",
    "df = pd.read_csv(\"results/expanded_grid/summary.csv\")\n",
    "\n",
    "Path(\"figures/expanded_kde\").mkdir(parents=True, exist_ok=True)\n",
    "\n",
    "for metric in [\"D\", \"FST_BC\"]:\n",
    "    for Ne in df[\"Ne\"].unique():\n",
    "        for mig_model in df[\"mig_model\"].unique():\n",
    "            for mig_direction in df[\"mig_direction\"].unique():\n",
    "                subset = df[\n",
    "                    (df[\"Ne\"] == Ne) &\n",
    "                    (df[\"mig_model\"] == mig_model) &\n",
    "                    (df[\"mig_direction\"] == mig_direction)\n",
    "                ]\n",
    "                if subset.empty:\n",
    "                    continue\n",
    "                plt.figure(figsize=(10, 6))\n",
    "                sns.kdeplot(\n",
    "                    data=subset,\n",
    "                    x=metric,\n",
    "                    hue=\"mig_rate\",\n",
    "                    fill=True,\n",
    "                    alpha=0.5,\n",
    "                    common_norm=False\n",
    "                )\n",
    "                plt.title(f\"{metric} KDE | Ne={Ne} | {mig_model} | {mig_direction}\")\n",
    "                plt.xlabel(metric)\n",
    "                plt.ylabel(\"Density\")\n",
    "                plt.tight_layout()\n",
    "                out_path = f\"figures/expanded_kde/{metric}_Ne{Ne}_{mig_model}_{mig_direction}.png\"\n",
    "                plt.savefig(out_path, dpi=300)\n",
    "                plt.close()\n"
   ]
  }
 ],
 "metadata": {
  "kernelspec": {
   "display_name": "Python 3",
   "language": "python",
   "name": "python3"
  },
  "language_info": {
   "codemirror_mode": {
    "name": "ipython",
    "version": 3
   },
   "file_extension": ".py",
   "mimetype": "text/x-python",
   "name": "python",
   "nbconvert_exporter": "python",
   "pygments_lexer": "ipython3",
   "version": "3.9.6"
  }
 },
 "nbformat": 4,
 "nbformat_minor": 2
}
